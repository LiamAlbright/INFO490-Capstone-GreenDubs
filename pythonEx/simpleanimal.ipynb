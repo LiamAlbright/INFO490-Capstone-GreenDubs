{
 "cells": [
  {
   "cell_type": "markdown",
   "metadata": {},
   "source": [
    "# Step 1 — Install libraries\n"
   ]
  },
  {
   "cell_type": "code",
   "execution_count": 1,
   "metadata": {},
   "outputs": [
    {
     "name": "stderr",
     "output_type": "stream",
     "text": [
      "Using TensorFlow backend.\n"
     ]
    }
   ],
   "source": [
    "from PIL import Image\n",
    "import os\n",
    "import cv2\n",
    "\n",
    "import numpy as np\n",
    "\n",
    "import keras\n",
    "from keras.utils import np_utils"
   ]
  },
  {
   "cell_type": "markdown",
   "metadata": {},
   "source": [
    "# Step 2 — Prepare Dataset\n"
   ]
  },
  {
   "cell_type": "code",
   "execution_count": 2,
   "metadata": {},
   "outputs": [],
   "source": [
    "data=[]\n",
    "labels=[]\n",
    "#\n",
    "canes=os.listdir(\"Animals/raw-img/canes\")\n",
    "for cane in canes:\n",
    "    imag=cv2.imread(\"Animals/raw-img/canes/\"+cane)\n",
    "    img_from_ar = Image.fromarray(imag, 'RGB')\n",
    "    resized_image = img_from_ar.resize((50, 50))\n",
    "    data.append(np.array(resized_image))\n",
    "    labels.append(0)\n",
    "    \n",
    "cavallos=os.listdir(\"Animals/raw-img/cavallos\")\n",
    "for cavallo in cavallos:\n",
    "    imag=cv2.imread(\"Animals/raw-img/cavallos/\"+cavallo)\n",
    "    img_from_ar = Image.fromarray(imag, 'RGB')\n",
    "    resized_image = img_from_ar.resize((50, 50))\n",
    "    data.append(np.array(resized_image))\n",
    "    labels.append(1)\n",
    "    \n",
    "elefantes=os.listdir(\"Animals/raw-img/elefantes\")\n",
    "for elefante in elefantes:\n",
    "    imag=cv2.imread(\"Animals/raw-img/elefantes/\"+elefante)\n",
    "    img_from_ar = Image.fromarray(imag, 'RGB')\n",
    "    resized_image = img_from_ar.resize((50, 50))\n",
    "    data.append(np.array(resized_image))\n",
    "    labels.append(2)\n",
    "    \n",
    "farfallas=os.listdir(\"Animals/raw-img/farfallas\")\n",
    "for farfalla in farfallas:\n",
    "    imag=cv2.imread(\"Animals/raw-img/farfallas/\"+farfalla)\n",
    "    img_from_ar = Image.fromarray(imag, 'RGB')\n",
    "    resized_image = img_from_ar.resize((50, 50))\n",
    "    data.append(np.array(resized_image))\n",
    "    labels.append(3)\n",
    "    \n",
    "gallinas=os.listdir(\"Animals/raw-img/gallinas\")\n",
    "for gallina in gallinas:\n",
    "    imag=cv2.imread(\"Animals/raw-img/gallinas/\"+gallina)\n",
    "    img_from_ar = Image.fromarray(imag, 'RGB')\n",
    "    resized_image = img_from_ar.resize((50, 50))\n",
    "    data.append(np.array(resized_image))\n",
    "    labels.append(4)\n",
    "    \n",
    "gattos=os.listdir(\"Animals/raw-img/gattos\")\n",
    "for gatto in gattos:\n",
    "    imag=cv2.imread(\"Animals/raw-img/gattos/\"+gatto)\n",
    "    img_from_ar = Image.fromarray(imag, 'RGB')\n",
    "    resized_image = img_from_ar.resize((50, 50))\n",
    "    data.append(np.array(resized_image))\n",
    "    labels.append(5)\n",
    "    \n",
    "muccas=os.listdir(\"Animals/raw-img/muccas\")\n",
    "for mucca in muccas:\n",
    "    imag=cv2.imread(\"Animals/raw-img/muccas/\"+mucca)\n",
    "    img_from_ar = Image.fromarray(imag, 'RGB')\n",
    "    resized_image = img_from_ar.resize((50, 50))\n",
    "    data.append(np.array(resized_image))\n",
    "    labels.append(6)\n",
    "    \n",
    "pecoras=os.listdir(\"Animals/raw-img/pecoras\")\n",
    "for pecora in pecoras:\n",
    "    imag=cv2.imread(\"Animals/raw-img/pecoras/\"+pecora)\n",
    "    img_from_ar = Image.fromarray(imag, 'RGB')\n",
    "    resized_image = img_from_ar.resize((50, 50))\n",
    "    data.append(np.array(resized_image))\n",
    "    labels.append(7)\n",
    "    \n",
    "        \n",
    "ragnos=os.listdir(\"Animals/raw-img/ragnos\")\n",
    "for ragno in ragnos:\n",
    "    imag=cv2.imread(\"Animals/raw-img/ragnos/\"+ragno)\n",
    "    img_from_ar = Image.fromarray(imag, 'RGB')\n",
    "    resized_image = img_from_ar.resize((50, 50))\n",
    "    data.append(np.array(resized_image))\n",
    "    labels.append(8)\n",
    "    \n",
    "scoiattolos=os.listdir(\"Animals/raw-img/scoiattolos\")\n",
    "for scoiattolo in scoiattolos:\n",
    "    imag=cv2.imread(\"Animals/raw-img/scoiattolos/\"+scoiattolo)\n",
    "    img_from_ar = Image.fromarray(imag, 'RGB')\n",
    "    resized_image = img_from_ar.resize((50, 50))\n",
    "    data.append(np.array(resized_image))\n",
    "    labels.append(9)"
   ]
  },
  {
   "cell_type": "markdown",
   "metadata": {},
   "source": [
    "#### Since the “data” and “labels” are normal array , convert them to numpy arrays-"
   ]
  },
  {
   "cell_type": "code",
   "execution_count": 3,
   "metadata": {},
   "outputs": [],
   "source": [
    "animals=np.array(data)\n",
    "labels=np.array(labels)"
   ]
  },
  {
   "cell_type": "markdown",
   "metadata": {},
   "source": [
    "#### Now save these numpy arrays so that you dont need to do this image manipulation again."
   ]
  },
  {
   "cell_type": "code",
   "execution_count": 4,
   "metadata": {},
   "outputs": [],
   "source": [
    "np.save(\"animals\",animals)\n",
    "np.save(\"labels\",labels)"
   ]
  },
  {
   "cell_type": "markdown",
   "metadata": {},
   "source": [
    "#### Now shuffle the “animals” and “labels” set so that you get good mixture when you separate the dataset into train and test\n"
   ]
  },
  {
   "cell_type": "code",
   "execution_count": 5,
   "metadata": {},
   "outputs": [],
   "source": [
    "s=np.arange(animals.shape[0])\n",
    "np.random.shuffle(s)\n",
    "animals=animals[s]\n",
    "labels=labels[s]"
   ]
  },
  {
   "cell_type": "markdown",
   "metadata": {},
   "source": [
    "#### Make a variable num_classes which is the total number of animal categories and a variable data_length which is size of dataset"
   ]
  },
  {
   "cell_type": "code",
   "execution_count": 6,
   "metadata": {},
   "outputs": [],
   "source": [
    "num_classes=len(np.unique(labels))\n",
    "data_length=len(animals)"
   ]
  },
  {
   "cell_type": "markdown",
   "metadata": {},
   "source": [
    "### Divide data into test and train\n"
   ]
  },
  {
   "cell_type": "code",
   "execution_count": 7,
   "metadata": {},
   "outputs": [],
   "source": [
    "(x_train,x_test)=animals[(int)(0.1*data_length):],animals[:(int)(0.1*data_length)]\n",
    "x_train = x_train.astype('float32')/255\n",
    "x_test = x_test.astype('float32')/255\n",
    "train_length=len(x_train)\n",
    "test_length=len(x_test)"
   ]
  },
  {
   "cell_type": "markdown",
   "metadata": {},
   "source": [
    "### Divide labels into test and train\n"
   ]
  },
  {
   "cell_type": "code",
   "execution_count": 8,
   "metadata": {},
   "outputs": [],
   "source": [
    "(y_train,y_test)=labels[(int)(0.1*data_length):],labels[:(int)(0.1*data_length)]"
   ]
  },
  {
   "cell_type": "markdown",
   "metadata": {},
   "source": [
    "### Make labels into One Hot Encoding\n"
   ]
  },
  {
   "cell_type": "code",
   "execution_count": 9,
   "metadata": {},
   "outputs": [],
   "source": [
    "\n",
    "#One hot encoding\n",
    "y_train=keras.utils.to_categorical(y_train,num_classes)\n",
    "y_test=keras.utils.to_categorical(y_test,num_classes)"
   ]
  },
  {
   "cell_type": "markdown",
   "metadata": {},
   "source": [
    "# Step 3 — Making Keras model\n"
   ]
  },
  {
   "cell_type": "code",
   "execution_count": 10,
   "metadata": {},
   "outputs": [
    {
     "name": "stdout",
     "output_type": "stream",
     "text": [
      "Model: \"sequential_1\"\n",
      "_________________________________________________________________\n",
      "Layer (type)                 Output Shape              Param #   \n",
      "=================================================================\n",
      "conv2d_1 (Conv2D)            (None, 50, 50, 16)        208       \n",
      "_________________________________________________________________\n",
      "max_pooling2d_1 (MaxPooling2 (None, 25, 25, 16)        0         \n",
      "_________________________________________________________________\n",
      "conv2d_2 (Conv2D)            (None, 25, 25, 32)        2080      \n",
      "_________________________________________________________________\n",
      "max_pooling2d_2 (MaxPooling2 (None, 12, 12, 32)        0         \n",
      "_________________________________________________________________\n",
      "conv2d_3 (Conv2D)            (None, 12, 12, 64)        8256      \n",
      "_________________________________________________________________\n",
      "max_pooling2d_3 (MaxPooling2 (None, 6, 6, 64)          0         \n",
      "_________________________________________________________________\n",
      "dropout_1 (Dropout)          (None, 6, 6, 64)          0         \n",
      "_________________________________________________________________\n",
      "flatten_1 (Flatten)          (None, 2304)              0         \n",
      "_________________________________________________________________\n",
      "dense_1 (Dense)              (None, 500)               1152500   \n",
      "_________________________________________________________________\n",
      "dropout_2 (Dropout)          (None, 500)               0         \n",
      "_________________________________________________________________\n",
      "dense_2 (Dense)              (None, 10)                5010      \n",
      "=================================================================\n",
      "Total params: 1,168,054\n",
      "Trainable params: 1,168,054\n",
      "Non-trainable params: 0\n",
      "_________________________________________________________________\n"
     ]
    }
   ],
   "source": [
    "from keras.models import Sequential\n",
    "from keras.layers import Conv2D,MaxPooling2D,Dense,Flatten,Dropout\n",
    "#make model\n",
    "model=Sequential()\n",
    "model.add(Conv2D(filters=16,kernel_size=2,padding=\"same\",activation=\"relu\",input_shape=(50,50,3)))\n",
    "model.add(MaxPooling2D(pool_size=2))\n",
    "model.add(Conv2D(filters=32,kernel_size=2,padding=\"same\",activation=\"relu\"))\n",
    "model.add(MaxPooling2D(pool_size=2))\n",
    "model.add(Conv2D(filters=64,kernel_size=2,padding=\"same\",activation=\"relu\"))\n",
    "model.add(MaxPooling2D(pool_size=2))\n",
    "model.add(Dropout(0.2))\n",
    "model.add(Flatten())\n",
    "model.add(Dense(500,activation=\"relu\"))\n",
    "model.add(Dropout(0.2))\n",
    "model.add(Dense(10,activation=\"softmax\"))\n",
    "model.summary()"
   ]
  },
  {
   "cell_type": "markdown",
   "metadata": {},
   "source": [
    "### Compile the model\n"
   ]
  },
  {
   "cell_type": "code",
   "execution_count": 11,
   "metadata": {},
   "outputs": [],
   "source": [
    "# compile the model\n",
    "model.compile(loss='categorical_crossentropy', optimizer='adam', \n",
    "                  metrics=['accuracy'])"
   ]
  },
  {
   "cell_type": "markdown",
   "metadata": {},
   "source": [
    "# Step 4 — Train the model\n"
   ]
  },
  {
   "cell_type": "code",
   "execution_count": 12,
   "metadata": {},
   "outputs": [
    {
     "name": "stdout",
     "output_type": "stream",
     "text": [
      "Epoch 1/100\n",
      "23562/23562 [==============================] - 42s 2ms/step - loss: 1.7240 - accuracy: 0.3988\n",
      "Epoch 2/100\n",
      "23562/23562 [==============================] - 35s 2ms/step - loss: 1.3166 - accuracy: 0.5527\n",
      "Epoch 3/100\n",
      "23562/23562 [==============================] - 31s 1ms/step - loss: 1.1477 - accuracy: 0.6080\n",
      "Epoch 4/100\n",
      "23562/23562 [==============================] - 29s 1ms/step - loss: 1.0454 - accuracy: 0.6410\n",
      "Epoch 5/100\n",
      "23562/23562 [==============================] - 27s 1ms/step - loss: 0.9523 - accuracy: 0.6777\n",
      "Epoch 6/100\n",
      "23562/23562 [==============================] - 27s 1ms/step - loss: 0.8774 - accuracy: 0.7012\n",
      "Epoch 7/100\n",
      "23562/23562 [==============================] - 27s 1ms/step - loss: 0.7916 - accuracy: 0.7305\n",
      "Epoch 8/100\n",
      "23562/23562 [==============================] - 27s 1ms/step - loss: 0.7195 - accuracy: 0.7542\n",
      "Epoch 9/100\n",
      "23562/23562 [==============================] - 27s 1ms/step - loss: 0.6479 - accuracy: 0.7787\n",
      "Epoch 10/100\n",
      "23562/23562 [==============================] - 27s 1ms/step - loss: 0.5723 - accuracy: 0.8046\n",
      "Epoch 11/100\n",
      "23562/23562 [==============================] - 27s 1ms/step - loss: 0.5139 - accuracy: 0.8253\n",
      "Epoch 12/100\n",
      "23562/23562 [==============================] - 27s 1ms/step - loss: 0.4497 - accuracy: 0.8437\n",
      "Epoch 13/100\n",
      "23562/23562 [==============================] - 27s 1ms/step - loss: 0.3959 - accuracy: 0.8644\n",
      "Epoch 14/100\n",
      "23562/23562 [==============================] - 28s 1ms/step - loss: 0.3566 - accuracy: 0.8752\n",
      "Epoch 15/100\n",
      "23562/23562 [==============================] - 27s 1ms/step - loss: 0.3103 - accuracy: 0.8925\n",
      "Epoch 16/100\n",
      "23562/23562 [==============================] - 27s 1ms/step - loss: 0.2833 - accuracy: 0.9021\n",
      "Epoch 17/100\n",
      "23562/23562 [==============================] - 27s 1ms/step - loss: 0.2551 - accuracy: 0.9110\n",
      "Epoch 18/100\n",
      "23562/23562 [==============================] - 28s 1ms/step - loss: 0.2299 - accuracy: 0.9204\n",
      "Epoch 19/100\n",
      "23562/23562 [==============================] - 28s 1ms/step - loss: 0.2053 - accuracy: 0.9284\n",
      "Epoch 20/100\n",
      "23562/23562 [==============================] - 28s 1ms/step - loss: 0.1988 - accuracy: 0.9316\n",
      "Epoch 21/100\n",
      "23562/23562 [==============================] - 28s 1ms/step - loss: 0.1806 - accuracy: 0.9389\n",
      "Epoch 22/100\n",
      "23562/23562 [==============================] - 28s 1ms/step - loss: 0.1720 - accuracy: 0.9396\n",
      "Epoch 23/100\n",
      "23562/23562 [==============================] - 28s 1ms/step - loss: 0.1658 - accuracy: 0.9429\n",
      "Epoch 24/100\n",
      "23562/23562 [==============================] - 28s 1ms/step - loss: 0.1520 - accuracy: 0.9475\n",
      "Epoch 25/100\n",
      "23562/23562 [==============================] - 28s 1ms/step - loss: 0.1478 - accuracy: 0.9498\n",
      "Epoch 26/100\n",
      "23562/23562 [==============================] - 28s 1ms/step - loss: 0.1432 - accuracy: 0.9514\n",
      "Epoch 27/100\n",
      "23562/23562 [==============================] - 28s 1ms/step - loss: 0.1429 - accuracy: 0.9510\n",
      "Epoch 28/100\n",
      "23562/23562 [==============================] - 28s 1ms/step - loss: 0.1361 - accuracy: 0.9523\n",
      "Epoch 29/100\n",
      "23562/23562 [==============================] - 28s 1ms/step - loss: 0.1272 - accuracy: 0.9573\n",
      "Epoch 30/100\n",
      "23562/23562 [==============================] - 28s 1ms/step - loss: 0.1278 - accuracy: 0.9567\n",
      "Epoch 31/100\n",
      "23562/23562 [==============================] - 28s 1ms/step - loss: 0.1307 - accuracy: 0.9555\n",
      "Epoch 32/100\n",
      "23562/23562 [==============================] - 28s 1ms/step - loss: 0.1206 - accuracy: 0.9585\n",
      "Epoch 33/100\n",
      "23562/23562 [==============================] - 28s 1ms/step - loss: 0.1239 - accuracy: 0.9587\n",
      "Epoch 34/100\n",
      "23562/23562 [==============================] - 28s 1ms/step - loss: 0.1137 - accuracy: 0.9626\n",
      "Epoch 35/100\n",
      "23562/23562 [==============================] - 28s 1ms/step - loss: 0.1122 - accuracy: 0.9621\n",
      "Epoch 36/100\n",
      "23562/23562 [==============================] - 28s 1ms/step - loss: 0.1109 - accuracy: 0.9627\n",
      "Epoch 37/100\n",
      "23562/23562 [==============================] - 28s 1ms/step - loss: 0.1018 - accuracy: 0.9649\n",
      "Epoch 38/100\n",
      "23562/23562 [==============================] - 28s 1ms/step - loss: 0.0983 - accuracy: 0.9674\n",
      "Epoch 39/100\n",
      "23562/23562 [==============================] - 28s 1ms/step - loss: 0.1048 - accuracy: 0.9651\n",
      "Epoch 40/100\n",
      "23562/23562 [==============================] - 28s 1ms/step - loss: 0.1039 - accuracy: 0.9650\n",
      "Epoch 41/100\n",
      "23562/23562 [==============================] - 28s 1ms/step - loss: 0.1069 - accuracy: 0.9652\n",
      "Epoch 42/100\n",
      "23562/23562 [==============================] - 28s 1ms/step - loss: 0.0953 - accuracy: 0.9681\n",
      "Epoch 43/100\n",
      "23562/23562 [==============================] - 28s 1ms/step - loss: 0.0852 - accuracy: 0.9706\n",
      "Epoch 44/100\n",
      "23562/23562 [==============================] - 28s 1ms/step - loss: 0.0956 - accuracy: 0.9669\n",
      "Epoch 45/100\n",
      "23562/23562 [==============================] - 28s 1ms/step - loss: 0.0942 - accuracy: 0.9677\n",
      "Epoch 46/100\n",
      "23562/23562 [==============================] - 28s 1ms/step - loss: 0.0905 - accuracy: 0.9700\n",
      "Epoch 47/100\n",
      "23562/23562 [==============================] - 28s 1ms/step - loss: 0.0924 - accuracy: 0.9694\n",
      "Epoch 48/100\n",
      "23562/23562 [==============================] - 28s 1ms/step - loss: 0.0930 - accuracy: 0.9691\n",
      "Epoch 49/100\n",
      "23562/23562 [==============================] - 28s 1ms/step - loss: 0.0857 - accuracy: 0.9712\n",
      "Epoch 50/100\n",
      "23562/23562 [==============================] - 28s 1ms/step - loss: 0.0832 - accuracy: 0.9722\n",
      "Epoch 51/100\n",
      "23562/23562 [==============================] - 28s 1ms/step - loss: 0.0897 - accuracy: 0.9694\n",
      "Epoch 52/100\n",
      "23562/23562 [==============================] - 28s 1ms/step - loss: 0.0779 - accuracy: 0.9751\n",
      "Epoch 53/100\n",
      "23562/23562 [==============================] - 27s 1ms/step - loss: 0.0824 - accuracy: 0.9717\n",
      "Epoch 54/100\n",
      "23562/23562 [==============================] - 27s 1ms/step - loss: 0.0859 - accuracy: 0.9720\n",
      "Epoch 55/100\n",
      "23562/23562 [==============================] - 27s 1ms/step - loss: 0.0777 - accuracy: 0.9760\n",
      "Epoch 56/100\n",
      "23562/23562 [==============================] - 27s 1ms/step - loss: 0.0814 - accuracy: 0.9732\n",
      "Epoch 57/100\n",
      "23562/23562 [==============================] - 27s 1ms/step - loss: 0.0815 - accuracy: 0.9731\n",
      "Epoch 58/100\n",
      "23562/23562 [==============================] - 27s 1ms/step - loss: 0.0729 - accuracy: 0.9744\n",
      "Epoch 59/100\n",
      "23562/23562 [==============================] - 27s 1ms/step - loss: 0.0778 - accuracy: 0.9742\n",
      "Epoch 60/100\n",
      "23562/23562 [==============================] - 27s 1ms/step - loss: 0.0792 - accuracy: 0.9736\n",
      "Epoch 61/100\n",
      "23562/23562 [==============================] - 27s 1ms/step - loss: 0.0717 - accuracy: 0.9761\n",
      "Epoch 62/100\n",
      "23562/23562 [==============================] - 27s 1ms/step - loss: 0.0717 - accuracy: 0.9764\n",
      "Epoch 63/100\n",
      "23562/23562 [==============================] - 27s 1ms/step - loss: 0.0779 - accuracy: 0.9735\n",
      "Epoch 64/100\n",
      "23562/23562 [==============================] - 27s 1ms/step - loss: 0.0660 - accuracy: 0.9779\n",
      "Epoch 65/100\n",
      "23562/23562 [==============================] - 4577s 194ms/step - loss: 0.0768 - accuracy: 0.9760\n",
      "Epoch 66/100\n",
      "23562/23562 [==============================] - 33s 1ms/step - loss: 0.0684 - accuracy: 0.9775\n",
      "Epoch 67/100\n",
      "23562/23562 [==============================] - 29s 1ms/step - loss: 0.0701 - accuracy: 0.9756\n",
      "Epoch 68/100\n",
      "23562/23562 [==============================] - 31s 1ms/step - loss: 0.0669 - accuracy: 0.9784\n",
      "Epoch 69/100\n",
      "23562/23562 [==============================] - 29s 1ms/step - loss: 0.0755 - accuracy: 0.9750\n",
      "Epoch 70/100\n",
      "23562/23562 [==============================] - 29s 1ms/step - loss: 0.0740 - accuracy: 0.9764\n",
      "Epoch 71/100\n",
      "23562/23562 [==============================] - 29s 1ms/step - loss: 0.0696 - accuracy: 0.9751\n",
      "Epoch 72/100\n",
      "23562/23562 [==============================] - 29s 1ms/step - loss: 0.0665 - accuracy: 0.9780\n",
      "Epoch 73/100\n",
      "23562/23562 [==============================] - 29s 1ms/step - loss: 0.0716 - accuracy: 0.9767\n",
      "Epoch 74/100\n",
      "23562/23562 [==============================] - 29s 1ms/step - loss: 0.0755 - accuracy: 0.9753\n",
      "Epoch 75/100\n",
      "23562/23562 [==============================] - 29s 1ms/step - loss: 0.0618 - accuracy: 0.9798\n",
      "Epoch 76/100\n",
      "23562/23562 [==============================] - 29s 1ms/step - loss: 0.0716 - accuracy: 0.9766\n",
      "Epoch 77/100\n",
      "23562/23562 [==============================] - 26s 1ms/step - loss: 0.0658 - accuracy: 0.9786\n",
      "Epoch 78/100\n",
      "23562/23562 [==============================] - 28s 1ms/step - loss: 0.0655 - accuracy: 0.9775\n",
      "Epoch 79/100\n",
      "23562/23562 [==============================] - 27s 1ms/step - loss: 0.0655 - accuracy: 0.9781\n",
      "Epoch 80/100\n",
      "23562/23562 [==============================] - 27s 1ms/step - loss: 0.0652 - accuracy: 0.9783\n",
      "Epoch 81/100\n",
      "23562/23562 [==============================] - 27s 1ms/step - loss: 0.0603 - accuracy: 0.9798\n",
      "Epoch 82/100\n",
      "23562/23562 [==============================] - 27s 1ms/step - loss: 0.0635 - accuracy: 0.9787\n",
      "Epoch 83/100\n",
      "23562/23562 [==============================] - 27s 1ms/step - loss: 0.0653 - accuracy: 0.9778\n",
      "Epoch 84/100\n",
      "23562/23562 [==============================] - 27s 1ms/step - loss: 0.0697 - accuracy: 0.9776\n",
      "Epoch 85/100\n",
      "23562/23562 [==============================] - 27s 1ms/step - loss: 0.0588 - accuracy: 0.9805\n",
      "Epoch 86/100\n",
      "23562/23562 [==============================] - 27s 1ms/step - loss: 0.0626 - accuracy: 0.9797\n",
      "Epoch 87/100\n",
      "23562/23562 [==============================] - 28s 1ms/step - loss: 0.0680 - accuracy: 0.9786\n",
      "Epoch 88/100\n",
      "23562/23562 [==============================] - 27s 1ms/step - loss: 0.0648 - accuracy: 0.9802\n",
      "Epoch 89/100\n",
      "23562/23562 [==============================] - 27s 1ms/step - loss: 0.0671 - accuracy: 0.9792\n",
      "Epoch 90/100\n",
      "23562/23562 [==============================] - 27s 1ms/step - loss: 0.0581 - accuracy: 0.9817\n",
      "Epoch 91/100\n",
      "23562/23562 [==============================] - 27s 1ms/step - loss: 0.0575 - accuracy: 0.9809\n",
      "Epoch 92/100\n",
      "23562/23562 [==============================] - 27s 1ms/step - loss: 0.0544 - accuracy: 0.9818\n",
      "Epoch 93/100\n",
      "23562/23562 [==============================] - 27s 1ms/step - loss: 0.0620 - accuracy: 0.9790\n",
      "Epoch 94/100\n",
      "23562/23562 [==============================] - 27s 1ms/step - loss: 0.0620 - accuracy: 0.9804\n",
      "Epoch 95/100\n",
      "23562/23562 [==============================] - 27s 1ms/step - loss: 0.0623 - accuracy: 0.9803\n",
      "Epoch 96/100\n",
      "23562/23562 [==============================] - 27s 1ms/step - loss: 0.0538 - accuracy: 0.9834\n",
      "Epoch 97/100\n",
      "23562/23562 [==============================] - 27s 1ms/step - loss: 0.0549 - accuracy: 0.9818\n",
      "Epoch 98/100\n",
      "23562/23562 [==============================] - 28s 1ms/step - loss: 0.0623 - accuracy: 0.9806\n",
      "Epoch 99/100\n",
      "23562/23562 [==============================] - 27s 1ms/step - loss: 0.0593 - accuracy: 0.9805\n",
      "Epoch 100/100\n",
      "23562/23562 [==============================] - 28s 1ms/step - loss: 0.0621 - accuracy: 0.9806\n"
     ]
    },
    {
     "data": {
      "text/plain": [
       "<keras.callbacks.callbacks.History at 0x7f61204a8da0>"
      ]
     },
     "execution_count": 12,
     "metadata": {},
     "output_type": "execute_result"
    }
   ],
   "source": [
    "model.fit(x_train,y_train,batch_size=50\n",
    "          ,epochs=100,verbose=1)"
   ]
  },
  {
   "cell_type": "markdown",
   "metadata": {},
   "source": [
    "# Step 5 — Test the model\n"
   ]
  },
  {
   "cell_type": "code",
   "execution_count": 13,
   "metadata": {},
   "outputs": [
    {
     "name": "stdout",
     "output_type": "stream",
     "text": [
      "2617/2617 [==============================] - 1s 388us/step\n",
      "\n",
      " Test accuracy: 0.6725257635116577\n"
     ]
    }
   ],
   "source": [
    "score = model.evaluate(x_test, y_test, verbose=1)\n",
    "print('\\n', 'Test accuracy:', score[1])"
   ]
  },
  {
   "cell_type": "markdown",
   "metadata": {},
   "source": [
    "# Step 6 — Predicting on single images\n"
   ]
  },
  {
   "cell_type": "code",
   "execution_count": 15,
   "metadata": {},
   "outputs": [],
   "source": [
    "def convert_to_array(img):\n",
    "    im = cv2.imread(img)\n",
    "    img = Image.fromarray(im, 'RGB')\n",
    "    image = img.resize((50, 50))\n",
    "    return np.array(image)\n",
    "def get_animal_name(label):\n",
    "    if label==0:\n",
    "        return \"cane\"\n",
    "    if label==1:\n",
    "        return \"cavallo\"\n",
    "    if label==2:\n",
    "        return \"elefante\"\n",
    "    if label==3:\n",
    "        return \"farfalla\"\n",
    "    if label==4:\n",
    "        return \"gallina\"\n",
    "    if label==5:\n",
    "        return \"gatto\"\n",
    "    if label==6:\n",
    "        return \"mucca\"\n",
    "    if label==7:\n",
    "        return \"pecora\"\n",
    "    if label==8:\n",
    "        return \"ragno\"\n",
    "    if label==9:\n",
    "        return \"scoiattolo\"\n",
    "def predict_animal(file):\n",
    "    print(\"Predicting .................................\")\n",
    "    ar=convert_to_array(file)\n",
    "    ar=ar/255\n",
    "    label=1\n",
    "    a=[]\n",
    "    a.append(ar)\n",
    "    a=np.array(a)\n",
    "    score=model.predict(a,verbose=1)\n",
    "    print(score)\n",
    "    label_index=np.argmax(score)\n",
    "    print(label_index)\n",
    "    acc=np.max(score)\n",
    "    animal=get_animal_name(label_index)\n",
    "    print(animal)\n",
    "    print(\"The predicted Animal is a \"+animal+\" with accuracy =    \"+str(acc))"
   ]
  },
  {
   "cell_type": "code",
   "execution_count": 16,
   "metadata": {},
   "outputs": [
    {
     "name": "stdout",
     "output_type": "stream",
     "text": [
      "Predicting .................................\n",
      "1/1 [==============================] - 0s 32ms/step\n",
      "[[3.6593981e-05 1.2800480e-06 1.5365894e-06 2.0043242e-07 2.5707851e-03\n",
      "  3.1246153e-05 7.8855453e-05 6.5164762e-03 1.9206333e-05 9.9074382e-01]]\n",
      "9\n",
      "scoiattolo\n",
      "The predicted Animal is a scoiattolo with accuracy =    0.9907438\n"
     ]
    }
   ],
   "source": [
    "predict_animal(\"skurl2.jpg\")\n"
   ]
  },
  {
   "cell_type": "markdown",
   "metadata": {},
   "source": [
    "# Alternative: Use the Python API to export directly to TF.js Layers format"
   ]
  },
  {
   "cell_type": "code",
   "execution_count": 17,
   "metadata": {},
   "outputs": [
    {
     "data": {
      "text/plain": [
       "'2.1.0'"
      ]
     },
     "execution_count": 17,
     "metadata": {},
     "output_type": "execute_result"
    }
   ],
   "source": [
    "#import tensorflowjs as tfjs\n",
    "import  tensorflowjs as tfjs \n",
    "\n",
    "import tensorflow as tf\n",
    "tf.__version__"
   ]
  },
  {
   "cell_type": "code",
   "execution_count": null,
   "metadata": {},
   "outputs": [],
   "source": [
    "# load json and create model\n",
    "#from keras.models import model_from_json\n",
    "\n",
    "#json_file = open('model.json', 'r')\n",
    "#loaded_model_json = json_file.read()\n",
    "#json_file.close()\n",
    "#loaded_model = model_from_json(loaded_model_json)\n",
    "# load weights into new model\n",
    "#loaded_model.load_weights(\"model.h5\")\n",
    "#loaded_model.compile(loss='categorical_crossentropy', optimizer='adam', \n",
    " #                 metrics=['accuracy'])\n",
    "print(\"Loaded model from disk\")"
   ]
  },
  {
   "cell_type": "code",
   "execution_count": 25,
   "metadata": {},
   "outputs": [],
   "source": [
    "os.getcwd()\n",
    "tfjs.converters.save_keras_model(model, '/home/liam/Desktop/info370')\n"
   ]
  },
  {
   "cell_type": "code",
   "execution_count": null,
   "metadata": {},
   "outputs": [],
   "source": []
  }
 ],
 "metadata": {
  "kernelspec": {
   "display_name": "Python 3",
   "language": "python",
   "name": "python3"
  },
  "language_info": {
   "codemirror_mode": {
    "name": "ipython",
    "version": 3
   },
   "file_extension": ".py",
   "mimetype": "text/x-python",
   "name": "python",
   "nbconvert_exporter": "python",
   "pygments_lexer": "ipython3",
   "version": "3.6.9"
  }
 },
 "nbformat": 4,
 "nbformat_minor": 2
}
