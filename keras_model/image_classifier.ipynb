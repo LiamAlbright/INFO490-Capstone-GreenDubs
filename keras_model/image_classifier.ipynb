{
 "cells": [
  {
   "cell_type": "code",
   "execution_count": 59,
   "metadata": {},
   "outputs": [],
   "source": [
    "#importing libraries\n",
    "from PIL import Image\n",
    "import numpy as np\n",
    "import os as os\n",
    "import cv2"
   ]
  },
  {
   "cell_type": "markdown",
   "metadata": {},
   "source": [
    "“data” is the array of all images converted to numpy array and “labels” is the array of corresponding labels.\n",
    "\n",
    "#### How it works —\n",
    "\n",
    "We go into each directory and go through all the files inside it. Then we read the images using cv2.imread. After that using Image object from PIL we convert the image into array. Since while training the convolutional neural network it is required that you have images of same size we resize the images to width and height of 50px. Then we convert it to numpy array just by passing the image array in the function np.array() and we append the numpy array in our data array. Also add corresponding label to the image. Eg for cat label is 0, for dog label is 1 and so on. Labels are required as the training is done in supervised manner."
   ]
  },
  {
   "cell_type": "code",
   "execution_count": 2,
   "metadata": {},
   "outputs": [],
   "source": [
    "data=[]\n",
    "labels=[]\n",
    "\n",
    "dogs=os.listdir(\"./raw-img/cane\")\n",
    "for dog in dogs:\n",
    "    imag=cv2.imread(\"./raw-img/cane/\"+dog)\n",
    "    img_from_ar = Image.fromarray(imag, 'RGB')\n",
    "    resized_image = img_from_ar.resize((50, 50))\n",
    "    data.append(np.array(resized_image))\n",
    "    labels.append(0)\n",
    "\n",
    "horses=os.listdir(\"./raw-img/cavallo\")\n",
    "for horse in horses:\n",
    "    imag=cv2.imread(\"./raw-img/cavallo/\"+horse)\n",
    "    img_from_ar = Image.fromarray(imag, 'RGB')\n",
    "    resized_image = img_from_ar.resize((50, 50))\n",
    "    data.append(np.array(resized_image))\n",
    "    labels.append(1)\n",
    "\n",
    "sheeps=os.listdir(\"./raw-img/pecora\")\n",
    "for sheep in sheeps:\n",
    "    imag=cv2.imread(\"./raw-img/pecora/\"+sheep)\n",
    "    img_from_ar = Image.fromarray(imag, 'RGB')\n",
    "    resized_image = img_from_ar.resize((50, 50))\n",
    "    data.append(np.array(resized_image))\n",
    "    labels.append(2)\n",
    "    \n",
    "\n",
    "chipmunks=os.listdir(\"./raw-img/scoiattolo\")\n",
    "for chipmunk in chipmunks:\n",
    "    imag=cv2.imread(\"./raw-img/scoiattolo/\"+chipmunk)\n",
    "    img_from_ar = Image.fromarray(imag, 'RGB')\n",
    "    resized_image = img_from_ar.resize((50, 50))\n",
    "    data.append(np.array(resized_image))\n",
    "    labels.append(3)"
   ]
  },
  {
   "cell_type": "markdown",
   "metadata": {},
   "source": [
    "Since the “data” and “labels” are normal array , convert them to numpy arrays-"
   ]
  },
  {
   "cell_type": "code",
   "execution_count": 3,
   "metadata": {},
   "outputs": [],
   "source": [
    "animals=np.array(data)\n",
    "labels=np.array(labels)"
   ]
  },
  {
   "cell_type": "markdown",
   "metadata": {},
   "source": [
    "Now save these numpy arrays so that you dont need to do this image manipulation again."
   ]
  },
  {
   "cell_type": "code",
   "execution_count": 4,
   "metadata": {},
   "outputs": [],
   "source": [
    "np.save(\"animals\",animals)\n",
    "np.save(\"labels\",labels)"
   ]
  },
  {
   "cell_type": "markdown",
   "metadata": {},
   "source": [
    "Load the arrays ( Optional : Required only if you have closed your jupyter notebook after saving numpy array )"
   ]
  },
  {
   "cell_type": "code",
   "execution_count": 5,
   "metadata": {},
   "outputs": [],
   "source": [
    "animals=np.load(\"animals.npy\")\n",
    "labels=np.load(\"labels.npy\")"
   ]
  },
  {
   "cell_type": "markdown",
   "metadata": {},
   "source": [
    "Now shuffle the “animals” and “labels” set so that you get good mixture when you separate the dataset into train and test"
   ]
  },
  {
   "cell_type": "code",
   "execution_count": 6,
   "metadata": {},
   "outputs": [],
   "source": [
    "s=np.arange(animals.shape[0])\n",
    "np.random.shuffle(s)\n",
    "animals=animals[s]\n",
    "labels=labels[s]"
   ]
  },
  {
   "cell_type": "markdown",
   "metadata": {},
   "source": [
    "Make a variable num_classes which is the total number of animal categories and a variable data_length which is size of dataset"
   ]
  },
  {
   "cell_type": "code",
   "execution_count": 7,
   "metadata": {},
   "outputs": [],
   "source": [
    "num_classes=len(np.unique(labels))\n",
    "data_length=len(animals)"
   ]
  },
  {
   "cell_type": "markdown",
   "metadata": {},
   "source": [
    "#### Divide data into test and train\n",
    "Take 90% of data in train set and 10% in test set"
   ]
  },
  {
   "cell_type": "code",
   "execution_count": 8,
   "metadata": {},
   "outputs": [],
   "source": [
    "(x_train,x_test)=animals[(int)(0.1*data_length):],animals[:(int)(0.1*data_length)]\n",
    "x_train = x_train.astype('float32')/255\n",
    "x_test = x_test.astype('float32')/255\n",
    "train_length=len(x_train)\n",
    "test_length=len(x_test)"
   ]
  },
  {
   "cell_type": "markdown",
   "metadata": {},
   "source": [
    "#### Divide labels into test and train"
   ]
  },
  {
   "cell_type": "code",
   "execution_count": 9,
   "metadata": {},
   "outputs": [],
   "source": [
    "(y_train,y_test)=labels[(int)(0.1*data_length):],labels[:(int)(0.1*data_length)]"
   ]
  },
  {
   "cell_type": "markdown",
   "metadata": {},
   "source": [
    "#### Make labels into One Hot Encoding"
   ]
  },
  {
   "cell_type": "code",
   "execution_count": 10,
   "metadata": {},
   "outputs": [
    {
     "name": "stderr",
     "output_type": "stream",
     "text": [
      "Using TensorFlow backend.\n"
     ]
    }
   ],
   "source": [
    "import keras\n",
    "from keras.utils import np_utils\n",
    "#One hot encoding\n",
    "y_train=keras.utils.to_categorical(y_train,num_classes)\n",
    "y_test=keras.utils.to_categorical(y_test,num_classes)"
   ]
  },
  {
   "cell_type": "markdown",
   "metadata": {},
   "source": [
    "data preparation part is over. All you have to do is think about hyper parameters like Filter size, number of filters, which type of padding to use, which activatioon functions to use etc.\n",
    "\n",
    "I added 3 pairs of Conv2D layer and Maxpool2D layer with increasing filter sizes ( 16,32 ,64) . This helps to make image grow more in depthwise and become more flatten. Maxpool layers are great as they optimize the training time. I have also add Dropout layers to reduce overfitting.\n",
    "In final Dense layer there are 20 nodes because we have 20 categories of animals (cat,dog,bird,fish). Softmax activation is used to give scores to these categories which lie between 0 and 1."
   ]
  },
  {
   "cell_type": "code",
   "execution_count": 11,
   "metadata": {},
   "outputs": [
    {
     "name": "stdout",
     "output_type": "stream",
     "text": [
      "Model: \"sequential_1\"\n",
      "_________________________________________________________________\n",
      "Layer (type)                 Output Shape              Param #   \n",
      "=================================================================\n",
      "conv2d_1 (Conv2D)            (None, 50, 50, 16)        208       \n",
      "_________________________________________________________________\n",
      "max_pooling2d_1 (MaxPooling2 (None, 25, 25, 16)        0         \n",
      "_________________________________________________________________\n",
      "conv2d_2 (Conv2D)            (None, 25, 25, 32)        2080      \n",
      "_________________________________________________________________\n",
      "max_pooling2d_2 (MaxPooling2 (None, 12, 12, 32)        0         \n",
      "_________________________________________________________________\n",
      "conv2d_3 (Conv2D)            (None, 12, 12, 64)        8256      \n",
      "_________________________________________________________________\n",
      "max_pooling2d_3 (MaxPooling2 (None, 6, 6, 64)          0         \n",
      "_________________________________________________________________\n",
      "dropout_1 (Dropout)          (None, 6, 6, 64)          0         \n",
      "_________________________________________________________________\n",
      "flatten_1 (Flatten)          (None, 2304)              0         \n",
      "_________________________________________________________________\n",
      "dense_1 (Dense)              (None, 500)               1152500   \n",
      "_________________________________________________________________\n",
      "dropout_2 (Dropout)          (None, 500)               0         \n",
      "_________________________________________________________________\n",
      "dense_2 (Dense)              (None, 4)                 2004      \n",
      "=================================================================\n",
      "Total params: 1,165,048\n",
      "Trainable params: 1,165,048\n",
      "Non-trainable params: 0\n",
      "_________________________________________________________________\n"
     ]
    }
   ],
   "source": [
    "# import sequential model and all the required layers\n",
    "from keras.models import Sequential\n",
    "from keras.layers import Conv2D,MaxPooling2D,Dense,Flatten,Dropout\n",
    "#make model\n",
    "model=Sequential()\n",
    "model.add(Conv2D(filters=16,kernel_size=2,padding=\"same\",activation=\"relu\",input_shape=(50,50,3)))\n",
    "model.add(MaxPooling2D(pool_size=2))\n",
    "model.add(Conv2D(filters=32,kernel_size=2,padding=\"same\",activation=\"relu\"))\n",
    "model.add(MaxPooling2D(pool_size=2))\n",
    "model.add(Conv2D(filters=64,kernel_size=2,padding=\"same\",activation=\"relu\"))\n",
    "model.add(MaxPooling2D(pool_size=2))\n",
    "model.add(Dropout(0.2))\n",
    "model.add(Flatten())\n",
    "model.add(Dense(500,activation=\"relu\"))\n",
    "model.add(Dropout(0.2))\n",
    "model.add(Dense(4,activation=\"softmax\"))\n",
    "model.summary()"
   ]
  },
  {
   "cell_type": "code",
   "execution_count": 12,
   "metadata": {},
   "outputs": [],
   "source": [
    "# compile the model\n",
    "model.compile(loss='categorical_crossentropy', optimizer='adam', \n",
    "                  metrics=['accuracy'])"
   ]
  },
  {
   "cell_type": "code",
   "execution_count": 13,
   "metadata": {},
   "outputs": [
    {
     "name": "stdout",
     "output_type": "stream",
     "text": [
      "Epoch 1/100\n",
      "10052/10052 [==============================] - 12s 1ms/step - loss: 1.1289 - accuracy: 0.5157\n",
      "Epoch 2/100\n",
      "10052/10052 [==============================] - 11s 1ms/step - loss: 0.8970 - accuracy: 0.6372\n",
      "Epoch 3/100\n",
      "10052/10052 [==============================] - 12s 1ms/step - loss: 0.8043 - accuracy: 0.6803\n",
      "Epoch 4/100\n",
      "10052/10052 [==============================] - 10s 1ms/step - loss: 0.7045 - accuracy: 0.7328\n",
      "Epoch 5/100\n",
      "10052/10052 [==============================] - 10s 1ms/step - loss: 0.6533 - accuracy: 0.7512\n",
      "Epoch 6/100\n",
      "10052/10052 [==============================] - 12s 1ms/step - loss: 0.6026 - accuracy: 0.7668\n",
      "Epoch 7/100\n",
      "10052/10052 [==============================] - 12s 1ms/step - loss: 0.5667 - accuracy: 0.7834\n",
      "Epoch 8/100\n",
      "10052/10052 [==============================] - 11s 1ms/step - loss: 0.5062 - accuracy: 0.8089\n",
      "Epoch 9/100\n",
      "10052/10052 [==============================] - 10s 959us/step - loss: 0.4535 - accuracy: 0.8304\n",
      "Epoch 10/100\n",
      "10052/10052 [==============================] - 9s 943us/step - loss: 0.4020 - accuracy: 0.8517\n",
      "Epoch 11/100\n",
      "10052/10052 [==============================] - 10s 948us/step - loss: 0.3657 - accuracy: 0.8665\n",
      "Epoch 12/100\n",
      "10052/10052 [==============================] - 10s 960us/step - loss: 0.3234 - accuracy: 0.8808\n",
      "Epoch 13/100\n",
      "10052/10052 [==============================] - 9s 935us/step - loss: 0.2878 - accuracy: 0.8916\n",
      "Epoch 14/100\n",
      "10052/10052 [==============================] - 9s 924us/step - loss: 0.2597 - accuracy: 0.9015\n",
      "Epoch 15/100\n",
      "10052/10052 [==============================] - 10s 979us/step - loss: 0.2484 - accuracy: 0.9083\n",
      "Epoch 16/100\n",
      "10052/10052 [==============================] - 10s 956us/step - loss: 0.1955 - accuracy: 0.9306\n",
      "Epoch 17/100\n",
      "10052/10052 [==============================] - 9s 922us/step - loss: 0.1704 - accuracy: 0.93940s - loss:\n",
      "Epoch 18/100\n",
      "10052/10052 [==============================] - 10s 964us/step - loss: 0.1480 - accuracy: 0.9503\n",
      "Epoch 19/100\n",
      "10052/10052 [==============================] - 10s 950us/step - loss: 0.1296 - accuracy: 0.9547\n",
      "Epoch 20/100\n",
      "10052/10052 [==============================] - 10s 967us/step - loss: 0.1084 - accuracy: 0.9650\n",
      "Epoch 21/100\n",
      "10052/10052 [==============================] - 9s 940us/step - loss: 0.0962 - accuracy: 0.9685\n",
      "Epoch 22/100\n",
      "10052/10052 [==============================] - 10s 1ms/step - loss: 0.0858 - accuracy: 0.9727\n",
      "Epoch 23/100\n",
      "10052/10052 [==============================] - 10s 1ms/step - loss: 0.0798 - accuracy: 0.9721\n",
      "Epoch 24/100\n",
      "10052/10052 [==============================] - 11s 1ms/step - loss: 0.0770 - accuracy: 0.9745\n",
      "Epoch 25/100\n",
      "10052/10052 [==============================] - 13s 1ms/step - loss: 0.0732 - accuracy: 0.9748\n",
      "Epoch 26/100\n",
      "10052/10052 [==============================] - 13s 1ms/step - loss: 0.0670 - accuracy: 0.9786\n",
      "Epoch 27/100\n",
      "10052/10052 [==============================] - 14s 1ms/step - loss: 0.0653 - accuracy: 0.9780\n",
      "Epoch 28/100\n",
      "10052/10052 [==============================] - 13s 1ms/step - loss: 0.0641 - accuracy: 0.9791\n",
      "Epoch 29/100\n",
      "10052/10052 [==============================] - 14s 1ms/step - loss: 0.0600 - accuracy: 0.9806\n",
      "Epoch 30/100\n",
      "10052/10052 [==============================] - 14s 1ms/step - loss: 0.1112 - accuracy: 0.9614\n",
      "Epoch 31/100\n",
      "10052/10052 [==============================] - 14s 1ms/step - loss: 0.0428 - accuracy: 0.9877\n",
      "Epoch 32/100\n",
      "10052/10052 [==============================] - 14s 1ms/step - loss: 0.0471 - accuracy: 0.9829\n",
      "Epoch 33/100\n",
      "10052/10052 [==============================] - 13s 1ms/step - loss: 0.0533 - accuracy: 0.9818\n",
      "Epoch 34/100\n",
      "10052/10052 [==============================] - 13s 1ms/step - loss: 0.0349 - accuracy: 0.9892 0s - loss: 0.0344 \n",
      "Epoch 35/100\n",
      "10052/10052 [==============================] - 13s 1ms/step - loss: 0.0422 - accuracy: 0.9855\n",
      "Epoch 36/100\n",
      "10052/10052 [==============================] - 13s 1ms/step - loss: 0.0478 - accuracy: 0.9837\n",
      "Epoch 37/100\n",
      "10052/10052 [==============================] - 12s 1ms/step - loss: 0.0332 - accuracy: 0.9889\n",
      "Epoch 38/100\n",
      "10052/10052 [==============================] - 13s 1ms/step - loss: 0.0398 - accuracy: 0.9881 0s - loss: 0.0397 - accu - ETA: 0s - loss: 0.0402 - accuracy\n",
      "Epoch 39/100\n",
      "10052/10052 [==============================] - 13s 1ms/step - loss: 0.0391 - accuracy: 0.9877\n",
      "Epoch 40/100\n",
      "10052/10052 [==============================] - 13s 1ms/step - loss: 0.0339 - accuracy: 0.9893\n",
      "Epoch 41/100\n",
      "10052/10052 [==============================] - 13s 1ms/step - loss: 0.0438 - accuracy: 0.9858\n",
      "Epoch 42/100\n",
      "10052/10052 [==============================] - 14s 1ms/step - loss: 0.0405 - accuracy: 0.9872\n",
      "Epoch 43/100\n",
      "10052/10052 [==============================] - 13s 1ms/step - loss: 0.0310 - accuracy: 0.9895\n",
      "Epoch 44/100\n",
      "10052/10052 [==============================] - 14s 1ms/step - loss: 0.0437 - accuracy: 0.9844\n",
      "Epoch 45/100\n",
      "10052/10052 [==============================] - 13s 1ms/step - loss: 0.0256 - accuracy: 0.9921\n",
      "Epoch 46/100\n",
      "10052/10052 [==============================] - 14s 1ms/step - loss: 0.0308 - accuracy: 0.9899\n",
      "Epoch 47/100\n",
      "10052/10052 [==============================] - 14s 1ms/step - loss: 0.0320 - accuracy: 0.9889\n",
      "Epoch 48/100\n",
      "10052/10052 [==============================] - 14s 1ms/step - loss: 0.0373 - accuracy: 0.9883\n",
      "Epoch 49/100\n",
      "10052/10052 [==============================] - 14s 1ms/step - loss: 0.0302 - accuracy: 0.9898\n",
      "Epoch 50/100\n",
      "10052/10052 [==============================] - 14s 1ms/step - loss: 0.1173 - accuracy: 0.9618\n",
      "Epoch 51/100\n",
      "10052/10052 [==============================] - 14s 1ms/step - loss: 0.0230 - accuracy: 0.9926\n",
      "Epoch 52/100\n",
      "10052/10052 [==============================] - 14s 1ms/step - loss: 0.0193 - accuracy: 0.9938\n",
      "Epoch 53/100\n",
      "10052/10052 [==============================] - 14s 1ms/step - loss: 0.0263 - accuracy: 0.9911\n",
      "Epoch 54/100\n",
      "10052/10052 [==============================] - 14s 1ms/step - loss: 0.0231 - accuracy: 0.9922\n",
      "Epoch 55/100\n",
      "10052/10052 [==============================] - 14s 1ms/step - loss: 0.0290 - accuracy: 0.9907\n",
      "Epoch 56/100\n",
      "10052/10052 [==============================] - 14s 1ms/step - loss: 0.0242 - accuracy: 0.9929\n",
      "Epoch 57/100\n",
      "10052/10052 [==============================] - 14s 1ms/step - loss: 0.0204 - accuracy: 0.9935\n",
      "Epoch 58/100\n",
      "10052/10052 [==============================] - 14s 1ms/step - loss: 0.0228 - accuracy: 0.9919\n",
      "Epoch 59/100\n",
      "10052/10052 [==============================] - 14s 1ms/step - loss: 0.0232 - accuracy: 0.9923\n",
      "Epoch 60/100\n",
      "10052/10052 [==============================] - 14s 1ms/step - loss: 0.0287 - accuracy: 0.9906\n",
      "Epoch 61/100\n",
      "10052/10052 [==============================] - 14s 1ms/step - loss: 0.0229 - accuracy: 0.9926\n",
      "Epoch 62/100\n",
      "10052/10052 [==============================] - 14s 1ms/step - loss: 0.0306 - accuracy: 0.9894\n",
      "Epoch 63/100\n",
      "10052/10052 [==============================] - 14s 1ms/step - loss: 0.0238 - accuracy: 0.9921\n",
      "Epoch 64/100\n",
      "10052/10052 [==============================] - 14s 1ms/step - loss: 0.0271 - accuracy: 0.9911\n",
      "Epoch 65/100\n",
      "10052/10052 [==============================] - 14s 1ms/step - loss: 0.0213 - accuracy: 0.9932\n",
      "Epoch 66/100\n",
      "10052/10052 [==============================] - 14s 1ms/step - loss: 0.0260 - accuracy: 0.9908\n",
      "Epoch 67/100\n",
      "10052/10052 [==============================] - 14s 1ms/step - loss: 0.0267 - accuracy: 0.9915\n",
      "Epoch 68/100\n",
      "10052/10052 [==============================] - 14s 1ms/step - loss: 0.0286 - accuracy: 0.9905\n",
      "Epoch 69/100\n",
      "10052/10052 [==============================] - 14s 1ms/step - loss: 0.0185 - accuracy: 0.9945\n",
      "Epoch 70/100\n",
      "10052/10052 [==============================] - 14s 1ms/step - loss: 0.0207 - accuracy: 0.9932\n",
      "Epoch 71/100\n",
      "10052/10052 [==============================] - 14s 1ms/step - loss: 0.0306 - accuracy: 0.9896\n",
      "Epoch 72/100\n",
      "10052/10052 [==============================] - 14s 1ms/step - loss: 0.0319 - accuracy: 0.9897\n",
      "Epoch 73/100\n",
      "10052/10052 [==============================] - 14s 1ms/step - loss: 0.0306 - accuracy: 0.9890\n",
      "Epoch 74/100\n",
      "10052/10052 [==============================] - 14s 1ms/step - loss: 0.0254 - accuracy: 0.9917\n",
      "Epoch 75/100\n",
      "10052/10052 [==============================] - 14s 1ms/step - loss: 0.0201 - accuracy: 0.9945\n",
      "Epoch 76/100\n",
      "10052/10052 [==============================] - 14s 1ms/step - loss: 0.0183 - accuracy: 0.9939\n",
      "Epoch 77/100\n",
      "10052/10052 [==============================] - 14s 1ms/step - loss: 0.0159 - accuracy: 0.9946\n",
      "Epoch 78/100\n",
      "10052/10052 [==============================] - 14s 1ms/step - loss: 0.0279 - accuracy: 0.9900\n",
      "Epoch 79/100\n",
      "10052/10052 [==============================] - 13s 1ms/step - loss: 0.0205 - accuracy: 0.9920\n",
      "Epoch 80/100\n",
      "10052/10052 [==============================] - 13s 1ms/step - loss: 0.0169 - accuracy: 0.9943\n",
      "Epoch 81/100\n",
      "10052/10052 [==============================] - 13s 1ms/step - loss: 0.0215 - accuracy: 0.9921\n",
      "Epoch 82/100\n",
      "10052/10052 [==============================] - 13s 1ms/step - loss: 0.0316 - accuracy: 0.9899\n",
      "Epoch 83/100\n",
      "10052/10052 [==============================] - 13s 1ms/step - loss: 0.0286 - accuracy: 0.9910\n",
      "Epoch 84/100\n",
      "10052/10052 [==============================] - 12s 1ms/step - loss: 0.0205 - accuracy: 0.9941\n",
      "Epoch 85/100\n",
      "10052/10052 [==============================] - 12s 1ms/step - loss: 0.0239 - accuracy: 0.9920\n",
      "Epoch 86/100\n",
      "10052/10052 [==============================] - 10s 1ms/step - loss: 0.0201 - accuracy: 0.9935\n",
      "Epoch 87/100\n",
      "10052/10052 [==============================] - 12s 1ms/step - loss: 0.0222 - accuracy: 0.9930\n",
      "Epoch 88/100\n",
      "10052/10052 [==============================] - 11s 1ms/step - loss: 0.0294 - accuracy: 0.9912\n",
      "Epoch 89/100\n",
      "10052/10052 [==============================] - 13s 1ms/step - loss: 0.0210 - accuracy: 0.9942\n",
      "Epoch 90/100\n",
      "10052/10052 [==============================] - 14s 1ms/step - loss: 0.0185 - accuracy: 0.9935\n",
      "Epoch 91/100\n",
      "10052/10052 [==============================] - 14s 1ms/step - loss: 0.0183 - accuracy: 0.9941\n",
      "Epoch 92/100\n",
      "10052/10052 [==============================] - 13s 1ms/step - loss: 0.0362 - accuracy: 0.9884\n",
      "Epoch 93/100\n",
      "10052/10052 [==============================] - 13s 1ms/step - loss: 0.0202 - accuracy: 0.9937\n",
      "Epoch 94/100\n",
      "10052/10052 [==============================] - 12s 1ms/step - loss: 0.0194 - accuracy: 0.9943\n",
      "Epoch 95/100\n",
      "10052/10052 [==============================] - 12s 1ms/step - loss: 0.0188 - accuracy: 0.9948\n",
      "Epoch 96/100\n",
      "10052/10052 [==============================] - 14s 1ms/step - loss: 0.0209 - accuracy: 0.9927\n",
      "Epoch 97/100\n",
      "10052/10052 [==============================] - 13s 1ms/step - loss: 0.0259 - accuracy: 0.9910\n",
      "Epoch 98/100\n",
      "10052/10052 [==============================] - 13s 1ms/step - loss: 0.0158 - accuracy: 0.9957\n",
      "Epoch 99/100\n",
      "10052/10052 [==============================] - 12s 1ms/step - loss: 0.0163 - accuracy: 0.9944\n",
      "Epoch 100/100\n",
      "10052/10052 [==============================] - 12s 1ms/step - loss: 0.0160 - accuracy: 0.9940\n"
     ]
    },
    {
     "data": {
      "text/plain": [
       "<keras.callbacks.callbacks.History at 0x21ec6d3bbc8>"
      ]
     },
     "execution_count": 13,
     "metadata": {},
     "output_type": "execute_result"
    }
   ],
   "source": [
    "model.fit(x_train,y_train,batch_size=50\n",
    "          ,epochs=100,verbose=1)"
   ]
  },
  {
   "cell_type": "code",
   "execution_count": 58,
   "metadata": {},
   "outputs": [
    {
     "name": "stdout",
     "output_type": "stream",
     "text": [
      "1116/1116 [==============================] - 0s 352us/step\n",
      "\n",
      " Test accuracy: 0.7724014520645142\n"
     ]
    }
   ],
   "source": [
    "score = model.evaluate(x_test, y_test, verbose=1)\n",
    "print('\\n', 'Test accuracy:', score[1])"
   ]
  },
  {
   "cell_type": "code",
   "execution_count": 60,
   "metadata": {},
   "outputs": [],
   "source": [
    "#single image test\n",
    "def convert_to_array(img):\n",
    "    im = cv2.imread(img)\n",
    "    img = Image.fromarray(im, 'RGB')\n",
    "    image = img.resize((50, 50))\n",
    "    return np.array(image)\n",
    "def get_animal_name(label):\n",
    "    if label==0:\n",
    "        return \"dog\"\n",
    "    if label==1:\n",
    "        return \"horse\"\n",
    "    if label==2:\n",
    "        return \"sheep\"\n",
    "    if label==3:\n",
    "        return \"chipmunk\"\n",
    "def predict_animal(file):\n",
    "    print(\"Predicting .................................\")\n",
    "    ar=convert_to_array(file)\n",
    "    ar=ar/255\n",
    "    label=1\n",
    "    a=[]\n",
    "    a.append(ar)\n",
    "    a=np.array(a)\n",
    "    score=model.predict(a,verbose=1)\n",
    "    print(score)\n",
    "    label_index=np.argmax(score)\n",
    "    print(label_index)\n",
    "    acc=np.max(score)\n",
    "    animal=get_animal_name(label_index)\n",
    "    print(animal)\n",
    "    print(\"The predicted Animal is a \"+animal+\" with accuracy =    \"+str(acc))"
   ]
  },
  {
   "cell_type": "code",
   "execution_count": 70,
   "metadata": {},
   "outputs": [
    {
     "name": "stdout",
     "output_type": "stream",
     "text": [
      "Predicting .................................\n",
      "1/1 [==============================] - 0s 3ms/step\n",
      "[[1.6734647e-08 6.4675962e-18 1.0000000e+00 2.4011264e-16]]\n",
      "2\n",
      "sheep\n",
      "The predicted Animal is a sheep with accuracy =    1.0\n"
     ]
    }
   ],
   "source": [
    "predict_animal(\"download.jpg\")"
   ]
  },
  {
   "cell_type": "code",
   "execution_count": 42,
   "metadata": {},
   "outputs": [
    {
     "data": {
      "image/jpeg": "[encoded data removed]",
      "text/plain": [
       "<IPython.core.display.Image object>"
      ]
     },
     "execution_count": 42,
     "metadata": {},
     "output_type": "execute_result"
    }
   ],
   "source": [
    "from IPython.display import Image\n",
    "Image(filename='download.jpg') "
   ]
  },
  {
   "cell_type": "code",
   "execution_count": 71,
   "metadata": {},
   "outputs": [
    {
     "name": "stdout",
     "output_type": "stream",
     "text": [
      "Predicting .................................\n",
      "1/1 [==============================] - 0s 3ms/step\n",
      "[[2.7372007e-10 1.6920369e-21 5.3376641e-25 1.0000000e+00]]\n",
      "3\n",
      "chipmunk\n",
      "The predicted Animal is a chipmunk with accuracy =    1.0\n"
     ]
    }
   ],
   "source": [
    "predict_animal(\"download1.jpg\")"
   ]
  },
  {
   "cell_type": "code",
   "execution_count": 43,
   "metadata": {},
   "outputs": [
    {
     "data": {
      "image/jpeg": "[encoded data removed]",
      "text/plain": [
       "<IPython.core.display.Image object>"
      ]
     },
     "execution_count": 43,
     "metadata": {},
     "output_type": "execute_result"
    }
   ],
   "source": [
    "from IPython.display import Image\n",
    "Image(filename='download1.jpg') "
   ]
  },
  {
   "cell_type": "code",
   "execution_count": 44,
   "metadata": {},
   "outputs": [
    {
     "name": "stdout",
     "output_type": "stream",
     "text": [
      "Saved model to disk\n"
     ]
    }
   ],
   "source": [
    "from keras.models import model_from_json\n",
    "# serialize model to JSON\n",
    "model_json = model.to_json()\n",
    "with open(\"model.json\", \"w\") as json_file:\n",
    "    json_file.write(model_json)\n",
    "# serialize weights to HDF5\n",
    "model.save_weights(\"model.h5\")\n",
    "print(\"Saved model to disk\")"
   ]
  },
  {
   "cell_type": "code",
   "execution_count": null,
   "metadata": {},
   "outputs": [],
   "source": []
  }
 ],
 "metadata": {
  "kernelspec": {
   "display_name": "Python 3",
   "language": "python",
   "name": "python3"
  },
  "language_info": {
   "codemirror_mode": {
    "name": "ipython",
    "version": 3
   },
   "file_extension": ".py",
   "mimetype": "text/x-python",
   "name": "python",
   "nbconvert_exporter": "python",
   "pygments_lexer": "ipython3",
   "version": "3.7.4"
  }
 },
 "nbformat": 4,
 "nbformat_minor": 2
}
